{
 "cells": [
  {
   "attachments": {},
   "cell_type": "markdown",
   "metadata": {},
   "source": [
    "# The Python Programming Language: Functions\n"
   ]
  },
  {
   "cell_type": "code",
   "execution_count": 1,
   "metadata": {},
   "outputs": [
    {
     "data": {
      "text/plain": [
       "3"
      ]
     },
     "execution_count": 1,
     "metadata": {},
     "output_type": "execute_result"
    }
   ],
   "source": [
    "x = 1\n",
    "y = 2\n",
    "x + y"
   ]
  },
  {
   "cell_type": "code",
   "execution_count": null,
   "metadata": {},
   "outputs": [
    {
     "data": {
      "text/plain": [
       "1"
      ]
     },
     "execution_count": 15,
     "metadata": {},
     "output_type": "execute_result"
    }
   ],
   "source": [
    "x"
   ]
  },
  {
   "cell_type": "code",
   "execution_count": null,
   "metadata": {},
   "outputs": [
    {
     "data": {
      "text/plain": [
       "3"
      ]
     },
     "execution_count": 16,
     "metadata": {},
     "output_type": "execute_result"
    }
   ],
   "source": [
    "def add_numbers(x, y):\n",
    "    return x + y\n",
    "add_numbers(1, 2)"
   ]
  },
  {
   "cell_type": "code",
   "execution_count": 5,
   "metadata": {},
   "outputs": [
    {
     "name": "stdout",
     "output_type": "stream",
     "text": [
      "3\n",
      "6\n"
     ]
    }
   ],
   "source": [
    "# Here z is optional parameter\n",
    "def add_numbers(x, y, z=None):\n",
    "    if z == None:\n",
    "        return x + y\n",
    "    else:\n",
    "        return x + y + z\n",
    "print(add_numbers(1,2))\n",
    "print(add_numbers(1,2,3))"
   ]
  },
  {
   "cell_type": "code",
   "execution_count": 4,
   "metadata": {},
   "outputs": [
    {
     "name": "stdout",
     "output_type": "stream",
     "text": [
      "Flag is true!\n",
      "3\n"
     ]
    }
   ],
   "source": [
    "def add_numbers(x, y, z=None, flag=False):\n",
    "    if flag:\n",
    "        print('Flag is true!')\n",
    "    if z == None:\n",
    "        return x + y\n",
    "    else:\n",
    "        return x + y + z\n",
    "print(add_numbers(1, 2, flag=True))"
   ]
  },
  {
   "attachments": {},
   "cell_type": "markdown",
   "metadata": {},
   "source": [
    "## Tuples\n",
    "\n",
    "- An immutable sequence of variables.\n",
    "- Tuples has items in ordering and can not be changed once created.\n",
    "- We write tuples using parantheses and we can mix types for the contents of the tuple.\n"
   ]
  },
  {
   "cell_type": "code",
   "execution_count": 7,
   "metadata": {},
   "outputs": [
    {
     "data": {
      "text/plain": [
       "True"
      ]
     },
     "execution_count": 7,
     "metadata": {},
     "output_type": "execute_result"
    }
   ],
   "source": [
    "x = (1, 'a', 2, 'b')\n",
    "type(x) == tuple"
   ]
  },
  {
   "attachments": {},
   "cell_type": "markdown",
   "metadata": {},
   "source": [
    "## Lists\n",
    "\n",
    "- Lists are mutable. So we can change it's length, number of elements and element values.\n",
    "- A list is declared using squre brackets.\n",
    "- We can change the contents of a list by using:\n",
    "  - `append()`: Adds at the end of list.\n",
    "  - `insert()`: Inserts element at a specific index of a list.\n",
    "  - `extend()`: Appends element from another list or any iterables(set, dictionary) to current list.\n"
   ]
  },
  {
   "cell_type": "code",
   "execution_count": 19,
   "metadata": {},
   "outputs": [
    {
     "name": "stdout",
     "output_type": "stream",
     "text": [
      "[1, 'a', 2, 'b', 3.3]\n",
      "[1, 'new_entry', 'a', 2, 'b', 3.3]\n",
      "1\n",
      "new_entry\n",
      "a\n",
      "2\n",
      "b\n",
      "3.3\n",
      "[1, 2, 3, 4]\n",
      "[1, 1, 1]\n",
      "True\n",
      "[1, 'new_entry', 'a', 2, 'b', 3.3]\n",
      "T\n",
      "T\n",
      "Th\n",
      "g\n",
      "ri\n",
      "Thi\n",
      "s is a string\n"
     ]
    }
   ],
   "source": [
    "elements = [1, 'a', 2, 'b']\n",
    "type(elements)\n",
    "\n",
    "# append\n",
    "elements.append(3.3)\n",
    "print(elements)\n",
    "\n",
    "# insert\n",
    "elements.insert(1, 'new_entry')\n",
    "print(elements)\n",
    "\n",
    "# loop\n",
    "for item in elements:\n",
    "    print(item)\n",
    "    \n",
    "# concat\n",
    "print([1, 2] + [3, 4])\n",
    "\n",
    "# repeat\n",
    "print([1] * 3)\n",
    "\n",
    "# check the existence\n",
    "print(1 in [1, 2, 3])\n",
    "\n",
    "# extend\n",
    "items = []\n",
    "items.extend(elements)\n",
    "print(items)\n",
    "\n",
    "# print a specific indexed value, Slicing\n",
    "x = 'This is a string'\n",
    "print(x[0]) # T\n",
    "print(x[0:1]) # T\n",
    "print(x[0:2]) # Th\n",
    "print(x[-1]) # g\n",
    "print(x[-4:-2]) # ri\n",
    "print(x[:3]) # Thi\n",
    "print(x[3:]) # s is a string"
   ]
  },
  {
   "attachments": {},
   "cell_type": "markdown",
   "metadata": {},
   "source": [
    "## String operations"
   ]
  },
  {
   "cell_type": "code",
   "execution_count": 29,
   "metadata": {},
   "outputs": [
    {
     "name": "stdout",
     "output_type": "stream",
     "text": [
      "Shahariar Shetu\n",
      "ShahariarShahariarShahariar\n",
      "False\n",
      "True\n",
      "['Shahariar', 'Shetu']\n"
     ]
    }
   ],
   "source": [
    "# Concatenation\n",
    "first_name = 'Shahariar'\n",
    "last_name = 'Shetu'\n",
    "full_name = first_name + ' ' + last_name\n",
    "print(full_name)\n",
    "print(first_name * 3)\n",
    "\n",
    "# Checking existence\n",
    "print('Shetu' in first_name) # False\n",
    "print('Shetu' in last_name) # True\n",
    "\n",
    "# Spliting strings into array of strings\n",
    "print(full_name.split(' ')) # ['Shahariar', 'Shetu']"
   ]
  },
  {
   "attachments": {},
   "cell_type": "markdown",
   "metadata": {},
   "source": [
    "## Python More on Strings"
   ]
  },
  {
   "cell_type": "code",
   "execution_count": 2,
   "metadata": {},
   "outputs": [
    {
     "name": "stdout",
     "output_type": "stream",
     "text": [
      "Chris bought 4 item(s) at a price of 3.24 each for total of 12.96\n"
     ]
    }
   ],
   "source": [
    "# format()\n",
    "sales_record = {'price': 3.24,\n",
    "                'num_items': 4,\n",
    "                'person': 'Chris'}\n",
    "sales_statement = '{} bought {} item(s) at a price of {} each for total of {}'\n",
    "print(sales_statement.format(\n",
    "      sales_record['person'],\n",
    "      sales_record['num_items'], \n",
    "      sales_record['price'], \n",
    "      sales_record['num_items']*sales_record['price'])\n",
    "      )"
   ]
  },
  {
   "attachments": {},
   "cell_type": "markdown",
   "metadata": {},
   "source": [
    "## Python Demostration: Reading and Writing CSV files"
   ]
  },
  {
   "cell_type": "code",
   "execution_count": 4,
   "metadata": {},
   "outputs": [
    {
     "name": "stdout",
     "output_type": "stream",
     "text": [
      "[{'': '1', 'manufacturer': 'audi', 'model': 'a4', 'displ': '1.8', 'year': '1999', 'cyl': '4', 'trans': 'auto(l5)', 'drv': 'f', 'cty': '18', 'hwy': '29', 'fl': 'p', 'class': 'compact'}, {'': '2', 'manufacturer': 'audi', 'model': 'a4', 'displ': '1.8', 'year': '1999', 'cyl': '4', 'trans': 'manual(m5)', 'drv': 'f', 'cty': '21', 'hwy': '29', 'fl': 'p', 'class': 'compact'}, {'': '3', 'manufacturer': 'audi', 'model': 'a4', 'displ': '2', 'year': '2008', 'cyl': '4', 'trans': 'manual(m6)', 'drv': 'f', 'cty': '20', 'hwy': '31', 'fl': 'p', 'class': 'compact'}]\n"
     ]
    }
   ],
   "source": [
    "import csv\n",
    "%precision 2\n",
    "\n",
    "with open('files/mpg.csv') as csv_file:\n",
    "    mpg = list(csv.DictReader(csv_file))\n",
    "\n",
    "print(mpg[:3])"
   ]
  },
  {
   "cell_type": "code",
   "execution_count": 5,
   "metadata": {},
   "outputs": [
    {
     "data": {
      "text/plain": [
       "234"
      ]
     },
     "execution_count": 5,
     "metadata": {},
     "output_type": "execute_result"
    }
   ],
   "source": [
    "len(mpg)"
   ]
  },
  {
   "cell_type": "code",
   "execution_count": 6,
   "metadata": {},
   "outputs": [
    {
     "data": {
      "text/plain": [
       "dict_keys(['', 'manufacturer', 'model', 'displ', 'year', 'cyl', 'trans', 'drv', 'cty', 'hwy', 'fl', 'class'])"
      ]
     },
     "execution_count": 6,
     "metadata": {},
     "output_type": "execute_result"
    }
   ],
   "source": [
    "# See the column names\n",
    "mpg[0].keys()"
   ]
  },
  {
   "cell_type": "code",
   "execution_count": 7,
   "metadata": {},
   "outputs": [
    {
     "data": {
      "text/plain": [
       "16.86"
      ]
     },
     "execution_count": 7,
     "metadata": {},
     "output_type": "execute_result"
    }
   ],
   "source": [
    "# Find the average of 'cty'\n",
    "sum(float(d['cty']) for d in mpg) / len(mpg)"
   ]
  },
  {
   "cell_type": "code",
   "execution_count": 9,
   "metadata": {},
   "outputs": [
    {
     "data": {
      "text/plain": [
       "23.44"
      ]
     },
     "execution_count": 9,
     "metadata": {},
     "output_type": "execute_result"
    }
   ],
   "source": [
    "# Find the average 'hwy'\n",
    "sum(float(h['hwy']) for h in mpg) / len(mpg)"
   ]
  },
  {
   "cell_type": "code",
   "execution_count": 11,
   "metadata": {},
   "outputs": [
    {
     "name": "stdout",
     "output_type": "stream",
     "text": [
      "{'8', '5', '4', '6'}\n"
     ]
    }
   ],
   "source": [
    "# How many unique cylinders are available in the dataset\n",
    "cylinders = set(d['cyl'] for d in mpg)\n",
    "print(cylinders)"
   ]
  },
  {
   "cell_type": "code",
   "execution_count": 13,
   "metadata": {},
   "outputs": [
    {
     "name": "stdout",
     "output_type": "stream",
     "text": [
      "[('4', 21.012345679012345), ('5', 20.5), ('6', 16.21518987341772), ('8', 12.571428571428571)]\n"
     ]
    }
   ],
   "source": [
    "# Group the cty mpg by cylinders\n",
    "cty_mpg_by_cyl = []\n",
    "\n",
    "for c in cylinders:\n",
    "    sum_mpg = 0\n",
    "    cyl_type_count = 0\n",
    "    for d in mpg:\n",
    "        if d['cyl'] == c:\n",
    "            sum_mpg += float(d['cty'])\n",
    "            cyl_type_count += 1\n",
    "    cty_mpg_by_cyl.append((c, sum_mpg/cyl_type_count))\n",
    "\n",
    "cty_mpg_by_cyl.sort(key= lambda x: x[0])\n",
    "print(cty_mpg_by_cyl)"
   ]
  },
  {
   "cell_type": "code",
   "execution_count": 14,
   "metadata": {},
   "outputs": [
    {
     "name": "stdout",
     "output_type": "stream",
     "text": [
      "{'2seater', 'minivan', 'pickup', 'midsize', 'subcompact', 'suv', 'compact'}\n"
     ]
    }
   ],
   "source": [
    "vehicle_class = set(d['class'] for d in mpg)\n",
    "print(vehicle_class)"
   ]
  },
  {
   "cell_type": "code",
   "execution_count": 16,
   "metadata": {},
   "outputs": [
    {
     "name": "stdout",
     "output_type": "stream",
     "text": [
      "[('pickup', 16.87878787878788), ('suv', 18.129032258064516), ('minivan', 22.363636363636363), ('2seater', 24.8), ('midsize', 27.29268292682927), ('subcompact', 28.142857142857142), ('compact', 28.29787234042553)]\n"
     ]
    }
   ],
   "source": [
    "hwy_mgp_by_class = []\n",
    "for t in vehicle_class:\n",
    "    sum_mpg = 0\n",
    "    v_class_count = 0\n",
    "    for d in mpg:\n",
    "        if d['class'] == t:\n",
    "            sum_mpg += float(d['hwy'])\n",
    "            v_class_count += 1\n",
    "    hwy_mgp_by_class.append((t, sum_mpg/v_class_count))\n",
    "\n",
    "hwy_mgp_by_class.sort(key=lambda x: x[1])\n",
    "print(hwy_mgp_by_class)\n"
   ]
  },
  {
   "attachments": {},
   "cell_type": "markdown",
   "metadata": {},
   "source": [
    "## Python Data and Times"
   ]
  },
  {
   "cell_type": "code",
   "execution_count": 22,
   "metadata": {},
   "outputs": [
    {
     "name": "stdout",
     "output_type": "stream",
     "text": [
      "1685928167.643235\n",
      "2023-06-05 07:22:47.643278\n",
      "2023 6 5 7 22 47\n",
      "100 days, 0:00:00\n",
      "2023-06-05\n",
      "2023-02-25\n"
     ]
    },
    {
     "data": {
      "text/plain": [
       "True"
      ]
     },
     "execution_count": 22,
     "metadata": {},
     "output_type": "execute_result"
    }
   ],
   "source": [
    "# epoch: Junary 1st, 1970\n",
    "import datetime as dt\n",
    "import time as tm\n",
    "\n",
    "print(tm.time())\n",
    "\n",
    "dt_now = dt.datetime.fromtimestamp(tm.time())\n",
    "print(dt_now)\n",
    "print(dt_now.year, dt_now.month, dt_now.day, dt_now.hour, dt_now.minute, dt_now.second)\n",
    "\n",
    "delta = dt.timedelta(days=100)\n",
    "print(delta)\n",
    "\n",
    "today = dt.date.today()\n",
    "print(today)\n",
    "\n",
    "print(today - delta)\n",
    "today > today-delta"
   ]
  },
  {
   "attachments": {},
   "cell_type": "markdown",
   "metadata": {},
   "source": [
    "## Advanced Python Objects, map()"
   ]
  },
  {
   "cell_type": "code",
   "execution_count": null,
   "metadata": {},
   "outputs": [],
   "source": [
    "class Person:\n",
    "    department = 'School of Information'\n",
    "\n",
    "    def set_name(self, new_name):\n",
    "        self.name = new_name\n",
    "    def set_location(self, new_location):\n",
    "        self.location = new_location\n"
   ]
  }
 ],
 "metadata": {
  "kernelspec": {
   "display_name": "Python 3.8.10 64-bit",
   "language": "python",
   "name": "python3"
  },
  "language_info": {
   "codemirror_mode": {
    "name": "ipython",
    "version": 3
   },
   "file_extension": ".py",
   "mimetype": "text/x-python",
   "name": "python",
   "nbconvert_exporter": "python",
   "pygments_lexer": "ipython3",
   "version": "3.9.6"
  },
  "orig_nbformat": 4,
  "vscode": {
   "interpreter": {
    "hash": "916dbcbb3f70747c44a77c7bcd40155683ae19c65e1c03b4aa3499c5328201f1"
   }
  }
 },
 "nbformat": 4,
 "nbformat_minor": 2
}
