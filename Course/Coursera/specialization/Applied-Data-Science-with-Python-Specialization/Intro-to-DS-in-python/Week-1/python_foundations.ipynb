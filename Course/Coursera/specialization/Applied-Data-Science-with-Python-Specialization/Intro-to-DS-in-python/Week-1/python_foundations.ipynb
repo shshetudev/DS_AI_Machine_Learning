{
 "cells": [
  {
   "attachments": {},
   "cell_type": "markdown",
   "metadata": {},
   "source": [
    "# The Python Programming Language: Functions\n"
   ]
  },
  {
   "cell_type": "code",
   "execution_count": 1,
   "metadata": {},
   "outputs": [
    {
     "data": {
      "text/plain": [
       "3"
      ]
     },
     "execution_count": 1,
     "metadata": {},
     "output_type": "execute_result"
    }
   ],
   "source": [
    "x = 1\n",
    "y = 2\n",
    "x + y"
   ]
  },
  {
   "cell_type": "code",
   "execution_count": null,
   "metadata": {},
   "outputs": [
    {
     "data": {
      "text/plain": [
       "1"
      ]
     },
     "execution_count": 15,
     "metadata": {},
     "output_type": "execute_result"
    }
   ],
   "source": [
    "x"
   ]
  },
  {
   "cell_type": "code",
   "execution_count": null,
   "metadata": {},
   "outputs": [
    {
     "data": {
      "text/plain": [
       "3"
      ]
     },
     "execution_count": 16,
     "metadata": {},
     "output_type": "execute_result"
    }
   ],
   "source": [
    "def add_numbers(x, y):\n",
    "    return x + y\n",
    "add_numbers(1, 2)"
   ]
  },
  {
   "cell_type": "code",
   "execution_count": 5,
   "metadata": {},
   "outputs": [
    {
     "name": "stdout",
     "output_type": "stream",
     "text": [
      "3\n",
      "6\n"
     ]
    }
   ],
   "source": [
    "# Here z is optional parameter\n",
    "def add_numbers(x, y, z=None):\n",
    "    if z == None:\n",
    "        return x + y\n",
    "    else:\n",
    "        return x + y + z\n",
    "print(add_numbers(1,2))\n",
    "print(add_numbers(1,2,3))"
   ]
  },
  {
   "cell_type": "code",
   "execution_count": 4,
   "metadata": {},
   "outputs": [
    {
     "name": "stdout",
     "output_type": "stream",
     "text": [
      "Flag is true!\n",
      "3\n"
     ]
    }
   ],
   "source": [
    "def add_numbers(x, y, z=None, flag=False):\n",
    "    if flag:\n",
    "        print('Flag is true!')\n",
    "    if z == None:\n",
    "        return x + y\n",
    "    else:\n",
    "        return x + y + z\n",
    "print(add_numbers(1, 2, flag=True))"
   ]
  },
  {
   "attachments": {},
   "cell_type": "markdown",
   "metadata": {},
   "source": [
    "## Tuples\n",
    "\n",
    "- An immutable sequence of variables.\n",
    "- Tuples has items in ordering and can not be changed once created.\n",
    "- We write tuples using parantheses and we can mix types for the contents of the tuple.\n"
   ]
  },
  {
   "cell_type": "code",
   "execution_count": 7,
   "metadata": {},
   "outputs": [
    {
     "data": {
      "text/plain": [
       "True"
      ]
     },
     "execution_count": 7,
     "metadata": {},
     "output_type": "execute_result"
    }
   ],
   "source": [
    "x = (1, 'a', 2, 'b')\n",
    "type(x) == tuple"
   ]
  },
  {
   "attachments": {},
   "cell_type": "markdown",
   "metadata": {},
   "source": [
    "## Lists\n",
    "\n",
    "- Lists are mutable. So we can change it's length, number of elements and element values.\n",
    "- A list is declared using squre brackets.\n",
    "- We can change the contents of a list by using:\n",
    "  - `append()`: Adds at the end of list.\n",
    "  - `insert()`: Inserts element at a specific index of a list.\n",
    "  - `extend()`: Appends element from another list or any iterables(set, dictionary) to current list.\n"
   ]
  },
  {
   "cell_type": "code",
   "execution_count": 19,
   "metadata": {},
   "outputs": [
    {
     "name": "stdout",
     "output_type": "stream",
     "text": [
      "[1, 'a', 2, 'b', 3.3]\n",
      "[1, 'new_entry', 'a', 2, 'b', 3.3]\n",
      "1\n",
      "new_entry\n",
      "a\n",
      "2\n",
      "b\n",
      "3.3\n",
      "[1, 2, 3, 4]\n",
      "[1, 1, 1]\n",
      "True\n",
      "[1, 'new_entry', 'a', 2, 'b', 3.3]\n",
      "T\n",
      "T\n",
      "Th\n",
      "g\n",
      "ri\n",
      "Thi\n",
      "s is a string\n"
     ]
    }
   ],
   "source": [
    "elements = [1, 'a', 2, 'b']\n",
    "type(elements)\n",
    "\n",
    "# append\n",
    "elements.append(3.3)\n",
    "print(elements)\n",
    "\n",
    "# insert\n",
    "elements.insert(1, 'new_entry')\n",
    "print(elements)\n",
    "\n",
    "# loop\n",
    "for item in elements:\n",
    "    print(item)\n",
    "    \n",
    "# concat\n",
    "print([1, 2] + [3, 4])\n",
    "\n",
    "# repeat\n",
    "print([1] * 3)\n",
    "\n",
    "# check the existence\n",
    "print(1 in [1, 2, 3])\n",
    "\n",
    "# extend\n",
    "items = []\n",
    "items.extend(elements)\n",
    "print(items)\n",
    "\n",
    "# print a specific indexed value, Slicing\n",
    "x = 'This is a string'\n",
    "print(x[0]) # T\n",
    "print(x[0:1]) # T\n",
    "print(x[0:2]) # Th\n",
    "print(x[-1]) # g\n",
    "print(x[-4:-2]) # ri\n",
    "print(x[:3]) # Thi\n",
    "print(x[3:]) # s is a string"
   ]
  },
  {
   "attachments": {},
   "cell_type": "markdown",
   "metadata": {},
   "source": [
    "## String operations"
   ]
  },
  {
   "cell_type": "code",
   "execution_count": 29,
   "metadata": {},
   "outputs": [
    {
     "name": "stdout",
     "output_type": "stream",
     "text": [
      "Shahariar Shetu\n",
      "ShahariarShahariarShahariar\n",
      "False\n",
      "True\n",
      "['Shahariar', 'Shetu']\n"
     ]
    }
   ],
   "source": [
    "# Concatenation\n",
    "first_name = 'Shahariar'\n",
    "last_name = 'Shetu'\n",
    "full_name = first_name + ' ' + last_name\n",
    "print(full_name)\n",
    "print(first_name * 3)\n",
    "\n",
    "# Checking existence\n",
    "print('Shetu' in first_name) # False\n",
    "print('Shetu' in last_name) # True\n",
    "\n",
    "# Spliting strings into array of strings\n",
    "print(full_name.split(' ')) # ['Shahariar', 'Shetu']"
   ]
  }
 ],
 "metadata": {
  "kernelspec": {
   "display_name": "Python 3.8.10 64-bit",
   "language": "python",
   "name": "python3"
  },
  "language_info": {
   "codemirror_mode": {
    "name": "ipython",
    "version": 3
   },
   "file_extension": ".py",
   "mimetype": "text/x-python",
   "name": "python",
   "nbconvert_exporter": "python",
   "pygments_lexer": "ipython3",
   "version": "3.10.6"
  },
  "orig_nbformat": 4,
  "vscode": {
   "interpreter": {
    "hash": "916dbcbb3f70747c44a77c7bcd40155683ae19c65e1c03b4aa3499c5328201f1"
   }
  }
 },
 "nbformat": 4,
 "nbformat_minor": 2
}
