{
 "cells": [
  {
   "cell_type": "markdown",
   "metadata": {},
   "source": [
    "## Creating virtual environment\n",
    "https://linuxize.com/post/how-to-create-python-virtual-environments-on-ubuntu-18-04/"
   ]
  },
  {
   "cell_type": "code",
   "execution_count": 9,
   "metadata": {},
   "outputs": [],
   "source": [
    "# Importing dependencies\n",
    "import sys\n",
    "import matplotlib\n",
    "matplotlib.use('Agg')\n",
    "\n",
    "import pandas as pd\n",
    "import matplotlib.pyplot as plt\n",
    "from scipy import stats"
   ]
  },
  {
   "cell_type": "code",
   "execution_count": 10,
   "metadata": {},
   "outputs": [],
   "source": [
    "# Defining the variables\n",
    "full_health_data = pd.read_csv(\"data.csv\", header=0, sep=\",\")\n",
    "\n",
    "# X axis = average_pulse, Y axis = calorie_burnage\n",
    "average_pulse = full_health_data[\"Average_Pulse\"]\n",
    "calorie_burnage = full_health_data[\"Calorie_Burnage\"]\n",
    "slope, intercept, r, p, std_err = stats.linregress(average_pulse, calorie_burnage)"
   ]
  },
  {
   "cell_type": "code",
   "execution_count": 11,
   "metadata": {},
   "outputs": [],
   "source": [
    "# Defining function and model\n",
    "# formula: y = mx+c\n",
    "def draw_str_line(x):\n",
    "    return slope*x + intercept\n",
    "calorie_burnage_model = list(map(draw_str_line, average_pulse))"
   ]
  },
  {
   "cell_type": "code",
   "execution_count": 15,
   "metadata": {},
   "outputs": [
    {
     "name": "stderr",
     "output_type": "stream",
     "text": [
      "/tmp/ipykernel_108807/3507114935.py:8: UserWarning: Matplotlib is currently using agg, which is a non-GUI backend, so cannot show the figure.\n",
      "  plt.show()\n"
     ]
    },
    {
     "ename": "AttributeError",
     "evalue": "'OutStream' object has no attribute 'buffer'",
     "output_type": "error",
     "traceback": [
      "\u001b[0;31m---------------------------------------------------------------------------\u001b[0m",
      "\u001b[0;31mAttributeError\u001b[0m                            Traceback (most recent call last)",
      "\u001b[1;32m/media/bjit/Backup/Personal/git/Personal_git/DS_AI_Machine_Learning/Tutorial/data-Science/1_introduction/intro.ipynb Cell 5\u001b[0m in \u001b[0;36m<cell line: 11>\u001b[0;34m()\u001b[0m\n\u001b[1;32m      <a href='vscode-notebook-cell:/media/bjit/Backup/Personal/git/Personal_git/DS_AI_Machine_Learning/Tutorial/data-Science/1_introduction/intro.ipynb#ch0000005?line=7'>8</a>\u001b[0m plt\u001b[39m.\u001b[39mshow()\n\u001b[1;32m     <a href='vscode-notebook-cell:/media/bjit/Backup/Personal/git/Personal_git/DS_AI_Machine_Learning/Tutorial/data-Science/1_introduction/intro.ipynb#ch0000005?line=9'>10</a>\u001b[0m \u001b[39m# Two lines to make our compiler able to draw\u001b[39;00m\n\u001b[0;32m---> <a href='vscode-notebook-cell:/media/bjit/Backup/Personal/git/Personal_git/DS_AI_Machine_Learning/Tutorial/data-Science/1_introduction/intro.ipynb#ch0000005?line=10'>11</a>\u001b[0m plt\u001b[39m.\u001b[39msavefig(sys\u001b[39m.\u001b[39;49mstdout\u001b[39m.\u001b[39;49mbuffer)\n",
      "\u001b[0;31mAttributeError\u001b[0m: 'OutStream' object has no attribute 'buffer'"
     ]
    }
   ],
   "source": [
    "# Drawing plots\n",
    "plt.scatter(average_pulse, calorie_burnage)\n",
    "plt.plot(average_pulse, calorie_burnage_model)\n",
    "plt.ylim(ymin=0, ymax=2000)\n",
    "plt.xlim(xmin=0, xmax=200)\n",
    "plt.xlabel(\"Average Pulse\")\n",
    "plt.ylabel(\"Calorie Burnage\")\n",
    "plt.show()\n",
    "\n",
    "# Two lines to make our compiler able to draw\n",
    "# plt.savefig(sys.stdout.buffer)\n",
    "# sys.stdout.flush()"
   ]
  }
 ],
 "metadata": {
  "kernelspec": {
   "display_name": "Python 3.8.10 64-bit",
   "language": "python",
   "name": "python3"
  },
  "language_info": {
   "codemirror_mode": {
    "name": "ipython",
    "version": 3
   },
   "file_extension": ".py",
   "mimetype": "text/x-python",
   "name": "python",
   "nbconvert_exporter": "python",
   "pygments_lexer": "ipython3",
   "version": "3.8.10"
  },
  "orig_nbformat": 4,
  "vscode": {
   "interpreter": {
    "hash": "916dbcbb3f70747c44a77c7bcd40155683ae19c65e1c03b4aa3499c5328201f1"
   }
  }
 },
 "nbformat": 4,
 "nbformat_minor": 2
}
