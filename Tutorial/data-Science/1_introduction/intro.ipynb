{
 "cells": [
  {
   "cell_type": "markdown",
   "metadata": {},
   "source": [
    "## Creating virtual environment\n",
    "https://linuxize.com/post/how-to-create-python-virtual-environments-on-ubuntu-18-04/"
   ]
  },
  {
   "cell_type": "code",
   "execution_count": 1,
   "metadata": {},
   "outputs": [],
   "source": [
    "# Importing dependencies\n",
    "import sys\n",
    "import matplotlib\n",
    "matplotlib.use('Agg')\n",
    "\n",
    "import pandas as pd\n",
    "import matplotlib.pyplot as plt\n",
    "from scipy import stats"
   ]
  },
  {
   "cell_type": "code",
   "execution_count": 2,
   "metadata": {},
   "outputs": [
    {
     "name": "stdout",
     "output_type": "stream",
     "text": [
      "     Duration  Average_Pulse  Max_Pulse  Calorie_Burnage  Hours_Work  \\\n",
      "0          60            110        130              409         0.0   \n",
      "1          60            117        145              479         0.0   \n",
      "2          60            103        135              340         8.0   \n",
      "3          45            109        175              282         8.0   \n",
      "4          45            117        148              406         0.0   \n",
      "..        ...            ...        ...              ...         ...   \n",
      "158        60            105        140              290         7.0   \n",
      "159        60            110        145              300         7.0   \n",
      "160        60            115        145              310         8.0   \n",
      "161        75            120        150              320         0.0   \n",
      "162        75            125        150              330         8.0   \n",
      "\n",
      "     Hours_Sleep  \n",
      "0            8.0  \n",
      "1            8.0  \n",
      "2            7.5  \n",
      "3            8.0  \n",
      "4            6.5  \n",
      "..           ...  \n",
      "158          8.0  \n",
      "159          8.0  \n",
      "160          8.0  \n",
      "161          8.0  \n",
      "162          8.0  \n",
      "\n",
      "[163 rows x 6 columns]\n"
     ]
    }
   ],
   "source": [
    "# Defining the variables\n",
    "full_health_data = pd.read_csv(\"data.csv\", header=0, sep=\",\")\n",
    "print(full_health_data)\n",
    "\n",
    "# X axis = average_pulse, Y axis = calorie_burnage\n",
    "average_pulse = full_health_data[\"Average_Pulse\"]\n",
    "calorie_burnage = full_health_data[\"Calorie_Burnage\"]\n",
    "slope, intercept, r, p, std_err = stats.linregress(average_pulse, calorie_burnage)"
   ]
  },
  {
   "cell_type": "code",
   "execution_count": 3,
   "metadata": {},
   "outputs": [
    {
     "name": "stdout",
     "output_type": "stream",
     "text": [
      "[383.1182088878911, 385.4251532034807, 380.81126457230147, 382.7886454142354, 385.4251532034807, 380.48170109864583, 383.1182088878911, 381.14082804595716, 382.7886454142354, 379.1634472040232, 380.81126457230147, 379.8225741513345, 381.79995499326844, 381.14082804595716, 379.1634472040232, 379.1634472040232, 379.8225741513345, 376.5269394147779, 380.81126457230147, 378.8338837303675, 382.4590819405798, 379.8225741513345, 389.70947836100424, 381.4703915196128, 380.48170109864583, 379.8225741513345, 377.18606636208926, 380.81126457230147, 379.8225741513345, 380.48170109864583, 377.18606636208926, 380.15213762499013, 377.5156298357449, 382.1295184669241, 384.43646278251373, 379.8225741513345, 379.8225741513345, 381.14082804595716, 379.1634472040232, 379.8225741513345, 383.44777236154675, 383.44777236154675, 379.49301067767885, 382.7886454142354, 383.44777236154675, 382.4590819405798, 383.44777236154675, 382.1295184669241, 387.40253404541465, 381.79995499326844, 385.75471667713634, 391.6868592029382, 386.7434070981033, 385.75471667713634, 384.76602625616937, 397.2894382550844, 387.40253404541465, 382.4590819405798, 383.1182088878911, 382.7886454142354, 385.75471667713634, 383.1182088878911, 376.5269394147779, 381.4703915196128, 382.1295184669241, 381.79995499326844, 382.4590819405798, 378.8338837303675, 379.8225741513345, 378.8338837303675, 384.43646278251373, 379.1634472040232, 381.4703915196128, 383.1182088878911, 379.8225741513345, 379.8225741513345, 399.26681909701836, 395.97118436046173, 380.81126457230147, 379.8225741513345, 379.8225741513345, 396.63031130777307, 380.48170109864583, 379.8225741513345, 389.3799148873486, 374.21999509918834, 380.15213762499013, 382.1295184669241, 376.5269394147779, 373.23130467822136, 396.30074783411743, 396.63031130777307, 378.17475678305624, 396.95987478142877, 382.7886454142354, 377.5156298357449, 378.17475678305624, 376.5269394147779, 376.5269394147779, 376.5269394147779, 377.18606636208926, 377.5156298357449, 376.5269394147779, 376.5269394147779, 376.5269394147779, 392.01642267659383, 380.48170109864583, 382.1295184669241, 387.7320975190703, 382.4590819405798, 382.4590819405798, 385.09558972982506, 378.8338837303675, 381.4703915196128, 380.81126457230147, 383.7773358352024, 379.8225741513345, 386.084280150792, 382.1295184669241, 383.44777236154675, 379.1634472040232, 378.8338837303675, 382.7886454142354, 379.49301067767885, 384.43646278251373, 381.14082804595716, 382.1295184669241, 380.81126457230147, 381.79995499326844, 380.81126457230147, 391.6868592029382, 385.4251532034807, 384.76602625616937, 384.10689930885803, 393.3346765712165, 382.4590819405798, 378.8338837303675, 379.8225741513345, 387.072970571759, 391.6868592029382, 381.79995499326844, 382.1295184669241, 383.7773358352024, 380.81126457230147, 383.1182088878911, 381.79995499326844, 382.7886454142354, 382.7886454142354, 396.30074783411743, 381.4703915196128, 378.8338837303675, 379.8225741513345, 384.43646278251373, 373.23130467822136, 374.8791220464996, 376.5269394147779, 378.17475678305624, 379.8225741513345, 381.4703915196128, 383.1182088878911, 384.76602625616937, 386.4138436244477, 388.06166099272593]\n"
     ]
    }
   ],
   "source": [
    "# Defining function and model\n",
    "# formula: y = mx+c\n",
    "def draw_str_line(x):\n",
    "    return slope*x + intercept\n",
    "calorie_burnage_model = list(map(draw_str_line, average_pulse))\n",
    "print(calorie_burnage_model)"
   ]
  },
  {
   "cell_type": "code",
   "execution_count": 15,
   "metadata": {},
   "outputs": [
    {
     "name": "stderr",
     "output_type": "stream",
     "text": [
      "/tmp/ipykernel_108807/3507114935.py:8: UserWarning: Matplotlib is currently using agg, which is a non-GUI backend, so cannot show the figure.\n",
      "  plt.show()\n"
     ]
    },
    {
     "ename": "AttributeError",
     "evalue": "'OutStream' object has no attribute 'buffer'",
     "output_type": "error",
     "traceback": [
      "\u001b[0;31m---------------------------------------------------------------------------\u001b[0m",
      "\u001b[0;31mAttributeError\u001b[0m                            Traceback (most recent call last)",
      "\u001b[1;32m/media/bjit/Backup/Personal/git/Personal_git/DS_AI_Machine_Learning/Tutorial/data-Science/1_introduction/intro.ipynb Cell 5\u001b[0m in \u001b[0;36m<cell line: 11>\u001b[0;34m()\u001b[0m\n\u001b[1;32m      <a href='vscode-notebook-cell:/media/bjit/Backup/Personal/git/Personal_git/DS_AI_Machine_Learning/Tutorial/data-Science/1_introduction/intro.ipynb#ch0000005?line=7'>8</a>\u001b[0m plt\u001b[39m.\u001b[39mshow()\n\u001b[1;32m     <a href='vscode-notebook-cell:/media/bjit/Backup/Personal/git/Personal_git/DS_AI_Machine_Learning/Tutorial/data-Science/1_introduction/intro.ipynb#ch0000005?line=9'>10</a>\u001b[0m \u001b[39m# Two lines to make our compiler able to draw\u001b[39;00m\n\u001b[0;32m---> <a href='vscode-notebook-cell:/media/bjit/Backup/Personal/git/Personal_git/DS_AI_Machine_Learning/Tutorial/data-Science/1_introduction/intro.ipynb#ch0000005?line=10'>11</a>\u001b[0m plt\u001b[39m.\u001b[39msavefig(sys\u001b[39m.\u001b[39;49mstdout\u001b[39m.\u001b[39;49mbuffer)\n",
      "\u001b[0;31mAttributeError\u001b[0m: 'OutStream' object has no attribute 'buffer'"
     ]
    }
   ],
   "source": [
    "# Drawing plots\n",
    "plt.scatter(average_pulse, calorie_burnage)\n",
    "plt.plot(average_pulse, calorie_burnage_model)\n",
    "plt.ylim(ymin=0, ymax=2000)\n",
    "plt.xlim(xmin=0, xmax=200)\n",
    "plt.xlabel(\"Average Pulse\")\n",
    "plt.ylabel(\"Calorie Burnage\")\n",
    "plt.show()\n",
    "\n",
    "# Two lines to make our compiler able to draw\n",
    "# plt.savefig(sys.stdout.buffer)\n",
    "# sys.stdout.flush()y = mx+c"
   ]
  },
  {
   "cell_type": "markdown",
   "metadata": {},
   "source": [
    "## Output\n",
    "![Final plot](../images/data-science-example.png)"
   ]
  }
 ],
 "metadata": {
  "kernelspec": {
   "display_name": "Python 3.8.10 64-bit",
   "language": "python",
   "name": "python3"
  },
  "language_info": {
   "codemirror_mode": {
    "name": "ipython",
    "version": 3
   },
   "file_extension": ".py",
   "mimetype": "text/x-python",
   "name": "python",
   "nbconvert_exporter": "python",
   "pygments_lexer": "ipython3",
   "version": "3.8.10"
  },
  "orig_nbformat": 4,
  "vscode": {
   "interpreter": {
    "hash": "916dbcbb3f70747c44a77c7bcd40155683ae19c65e1c03b4aa3499c5328201f1"
   }
  }
 },
 "nbformat": 4,
 "nbformat_minor": 2
}
