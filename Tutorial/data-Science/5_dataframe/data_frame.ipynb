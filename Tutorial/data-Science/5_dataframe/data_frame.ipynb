{
 "cells": [
  {
   "cell_type": "markdown",
   "metadata": {},
   "source": [
    "## DataFrame with Pandas"
   ]
  },
  {
   "cell_type": "code",
   "execution_count": 10,
   "metadata": {},
   "outputs": [
    {
     "name": "stdout",
     "output_type": "stream",
     "text": [
      "   col1  col2  col3\n",
      "0     1     4     7\n",
      "1     2     5     8\n",
      "2     3     6    12\n",
      "3     4     9     1\n",
      "4     7     5    11\n",
      "Number of rows 5\n",
      "Number of columns 3\n"
     ]
    }
   ],
   "source": [
    "import pandas as pd\n",
    "d = {'col1': [1,2,3,4,7], 'col2': [4,5,6,9,5], 'col3': [7,8,12,1,11]}\n",
    "df = pd.DataFrame(data=d)\n",
    "print(df)\n",
    "# print num of rows\n",
    "rows = df.shape[0]\n",
    "print('Number of rows', rows)\n",
    "# print num of columns\n",
    "columns = df.shape[1]\n",
    "print('Number of columns', columns)"
   ]
  },
  {
   "cell_type": "markdown",
   "metadata": {},
   "source": [
    "## Example explanation\n",
    "- Imports pandas as pd.\n",
    "- Define data with column and rows in a variable named d.\n",
    "- Create a data frame using the function `pd.DataFrame()`.\n",
    "- The data frame contains 3 column and 5 rows.\n",
    "- Printing the dataframe using  with `print()` function.\n",
    "- To print the number of rows we use `shape[0]` variable.\n",
    "- To print the number of columns we use `shape[1]` variable."
   ]
  }
 ],
 "metadata": {
  "kernelspec": {
   "display_name": "Python 3.8.10 64-bit",
   "language": "python",
   "name": "python3"
  },
  "language_info": {
   "codemirror_mode": {
    "name": "ipython",
    "version": 3
   },
   "file_extension": ".py",
   "mimetype": "text/x-python",
   "name": "python",
   "nbconvert_exporter": "python",
   "pygments_lexer": "ipython3",
   "version": "3.8.10"
  },
  "orig_nbformat": 4,
  "vscode": {
   "interpreter": {
    "hash": "916dbcbb3f70747c44a77c7bcd40155683ae19c65e1c03b4aa3499c5328201f1"
   }
  }
 },
 "nbformat": 4,
 "nbformat_minor": 2
}
