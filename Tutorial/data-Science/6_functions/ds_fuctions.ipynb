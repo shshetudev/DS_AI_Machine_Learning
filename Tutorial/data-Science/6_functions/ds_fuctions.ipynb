{
 "cells": [
  {
   "cell_type": "code",
   "execution_count": 4,
   "metadata": {},
   "outputs": [
    {
     "name": "stdout",
     "output_type": "stream",
     "text": [
      "Average pulse max: 125\n",
      "Average pulse min: 80\n"
     ]
    }
   ],
   "source": [
    "# python: max, min function\n",
    "avg_pulse_max = max(80, 85, 90, 95, 100, 105, 110, 115, 120, 125)\n",
    "print('Average pulse max:', avg_pulse_max)\n",
    "\n",
    "avg_pulse_min = min(80, 85, 90, 95, 100, 105, 110, 115, 120, 125)\n",
    "print('Average pulse min:', avg_pulse_min)"
   ]
  },
  {
   "cell_type": "code",
   "execution_count": 5,
   "metadata": {},
   "outputs": [
    {
     "name": "stdout",
     "output_type": "stream",
     "text": [
      "285.0\n"
     ]
    }
   ],
   "source": [
    "# Numpy mean() function is used to find the average value of an array\n",
    "import numpy as np\n",
    "calorie_burnage = [240, 250, 260, 270, 280, 290, 300, 310, 320, 330]\n",
    "avg_calorie_burnage = np.mean(calorie_burnage)\n",
    "print(avg_calorie_burnage)"
   ]
  }
 ],
 "metadata": {
  "kernelspec": {
   "display_name": "Python 3.8.10 64-bit",
   "language": "python",
   "name": "python3"
  },
  "language_info": {
   "codemirror_mode": {
    "name": "ipython",
    "version": 3
   },
   "file_extension": ".py",
   "mimetype": "text/x-python",
   "name": "python",
   "nbconvert_exporter": "python",
   "pygments_lexer": "ipython3",
   "version": "3.8.10"
  },
  "orig_nbformat": 4,
  "vscode": {
   "interpreter": {
    "hash": "916dbcbb3f70747c44a77c7bcd40155683ae19c65e1c03b4aa3499c5328201f1"
   }
  }
 },
 "nbformat": 4,
 "nbformat_minor": 2
}
